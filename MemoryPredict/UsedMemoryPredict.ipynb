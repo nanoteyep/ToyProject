{
  "nbformat": 4,
  "nbformat_minor": 0,
  "metadata": {
    "colab": {
      "name": "UsedMemoryPredict.ipynb",
      "provenance": [],
      "collapsed_sections": []
    },
    "kernelspec": {
      "name": "python3",
      "display_name": "Python 3"
    },
    "language_info": {
      "name": "python"
    }
  },
  "cells": [
    {
      "cell_type": "markdown",
      "source": [
        "# 주제 : 메모리 사용량 데이터를 활용해 미래의 메모리 사용량을 예측합니다.\n",
        "---\n",
        "\n",
        "## 데이터 분석\n",
        "  - 학습에 사용되는 메모리 사용량 데이터는 9월, 1 달 분량의 데이터 입니다.\n",
        "\n",
        "  - 그 중 시간 정보 즉, **datetime** 을 사용하여 메모리 사용량, **system.memory.used.pct**를 예측합니다.\n",
        "\n",
        "  - 또한 **cloud.instance.id**에 따라 메모리 사용량 패턴이 다르게 나타나기 때문에 *i-000001bc*라는 id를 가진 instance만 사용하고 예측함으로서 하드웨어 자원 및 시간을 절약 할 것 입니다.\n",
        "\n",
        "## 최종 목표\n",
        "  - 10월 7일까지 메모리 사용량을 예측 할 것 입니다.\n",
        "\n",
        "  - 예측된 데이터를 기반으로 시각화 자료, 그래프를 그릴 것 입니다.\n",
        "\n",
        "  - 실제 10월 데이터를 활용하여 예측 값 과의 차이를 **MAPE**라는 지수를 사용하여 비교 할 것 입니다.\n"
      ],
      "metadata": {
        "id": "u1E6kfoUw4D8"
      }
    },
    {
      "cell_type": "markdown",
      "source": [
        "## Step 1. 데이터셋 준비하기"
      ],
      "metadata": {
        "id": "zkw4Vqssv_Ug"
      }
    },
    {
      "cell_type": "code",
      "execution_count": null,
      "metadata": {
        "id": "9JwTaxhdWUWE"
      },
      "outputs": [],
      "source": [
        "import numpy as np\n",
        "import pandas as pd\n",
        "import matplotlib.pyplot as plt\n",
        "\n",
        "\n",
        "pd.set_option('display.max_columns', None)\n",
        "# pd.set_option('display.max_rows', None)"
      ]
    },
    {
      "cell_type": "markdown",
      "source": [
        "### Memory 데이터를 불러 오고 가공하는 단계입니다."
      ],
      "metadata": {
        "id": "XIEdTOq-wb8D"
      }
    },
    {
      "cell_type": "code",
      "source": [
        "memory_df = pd.read_csv(\"/content/drive/MyDrive/Collab/data/mem_2110/sym-metric-memory-2021-09-01.csv\")\n",
        "df = memory_df[['datetime','cloud.instance.id' ,'system.memory.used.pct']]\n",
        "for i in range(2, 31):\n",
        "    memory_df = pd.read_csv(\"/content/drive/MyDrive/Collab/data/mem_2110/sym-metric-memory-2021-09-\"+str(i).zfill(2)+\".csv\")\n",
        "    df = pd.concat([df, memory_df[['datetime', 'cloud.instance.id', 'system.memory.used.pct']]])\n",
        "memory_df = 0"
      ],
      "metadata": {
        "id": "jawvbMa_WXo5"
      },
      "execution_count": null,
      "outputs": []
    },
    {
      "cell_type": "code",
      "source": [
        "df.head()"
      ],
      "metadata": {
        "colab": {
          "base_uri": "https://localhost:8080/",
          "height": 206
        },
        "id": "OhX9K3YnWknJ",
        "outputId": "32a198c9-f837-461e-c16b-dc16decded68"
      },
      "execution_count": null,
      "outputs": [
        {
          "output_type": "execute_result",
          "data": {
            "text/html": [
              "\n",
              "  <div id=\"df-7fc3ed88-b026-4297-a594-1dd9f233f8ed\">\n",
              "    <div class=\"colab-df-container\">\n",
              "      <div>\n",
              "<style scoped>\n",
              "    .dataframe tbody tr th:only-of-type {\n",
              "        vertical-align: middle;\n",
              "    }\n",
              "\n",
              "    .dataframe tbody tr th {\n",
              "        vertical-align: top;\n",
              "    }\n",
              "\n",
              "    .dataframe thead th {\n",
              "        text-align: right;\n",
              "    }\n",
              "</style>\n",
              "<table border=\"1\" class=\"dataframe\">\n",
              "  <thead>\n",
              "    <tr style=\"text-align: right;\">\n",
              "      <th></th>\n",
              "      <th>datetime</th>\n",
              "      <th>cloud.instance.id</th>\n",
              "      <th>system.memory.used.pct</th>\n",
              "    </tr>\n",
              "  </thead>\n",
              "  <tbody>\n",
              "    <tr>\n",
              "      <th>0</th>\n",
              "      <td>2021-09-01T22:16:20.000Z</td>\n",
              "      <td>i-000001bc</td>\n",
              "      <td>0.9136</td>\n",
              "    </tr>\n",
              "    <tr>\n",
              "      <th>1</th>\n",
              "      <td>2021-09-01T22:16:20.000Z</td>\n",
              "      <td>i-000000c7</td>\n",
              "      <td>0.6492</td>\n",
              "    </tr>\n",
              "    <tr>\n",
              "      <th>2</th>\n",
              "      <td>2021-09-01T22:16:20.000Z</td>\n",
              "      <td>i-00000175</td>\n",
              "      <td>0.9774</td>\n",
              "    </tr>\n",
              "    <tr>\n",
              "      <th>3</th>\n",
              "      <td>2021-09-01T22:16:20.000Z</td>\n",
              "      <td>i-000002ac</td>\n",
              "      <td>0.9310</td>\n",
              "    </tr>\n",
              "    <tr>\n",
              "      <th>4</th>\n",
              "      <td>2021-09-01T22:16:20.000Z</td>\n",
              "      <td>i-000001e8</td>\n",
              "      <td>0.2700</td>\n",
              "    </tr>\n",
              "  </tbody>\n",
              "</table>\n",
              "</div>\n",
              "      <button class=\"colab-df-convert\" onclick=\"convertToInteractive('df-7fc3ed88-b026-4297-a594-1dd9f233f8ed')\"\n",
              "              title=\"Convert this dataframe to an interactive table.\"\n",
              "              style=\"display:none;\">\n",
              "        \n",
              "  <svg xmlns=\"http://www.w3.org/2000/svg\" height=\"24px\"viewBox=\"0 0 24 24\"\n",
              "       width=\"24px\">\n",
              "    <path d=\"M0 0h24v24H0V0z\" fill=\"none\"/>\n",
              "    <path d=\"M18.56 5.44l.94 2.06.94-2.06 2.06-.94-2.06-.94-.94-2.06-.94 2.06-2.06.94zm-11 1L8.5 8.5l.94-2.06 2.06-.94-2.06-.94L8.5 2.5l-.94 2.06-2.06.94zm10 10l.94 2.06.94-2.06 2.06-.94-2.06-.94-.94-2.06-.94 2.06-2.06.94z\"/><path d=\"M17.41 7.96l-1.37-1.37c-.4-.4-.92-.59-1.43-.59-.52 0-1.04.2-1.43.59L10.3 9.45l-7.72 7.72c-.78.78-.78 2.05 0 2.83L4 21.41c.39.39.9.59 1.41.59.51 0 1.02-.2 1.41-.59l7.78-7.78 2.81-2.81c.8-.78.8-2.07 0-2.86zM5.41 20L4 18.59l7.72-7.72 1.47 1.35L5.41 20z\"/>\n",
              "  </svg>\n",
              "      </button>\n",
              "      \n",
              "  <style>\n",
              "    .colab-df-container {\n",
              "      display:flex;\n",
              "      flex-wrap:wrap;\n",
              "      gap: 12px;\n",
              "    }\n",
              "\n",
              "    .colab-df-convert {\n",
              "      background-color: #E8F0FE;\n",
              "      border: none;\n",
              "      border-radius: 50%;\n",
              "      cursor: pointer;\n",
              "      display: none;\n",
              "      fill: #1967D2;\n",
              "      height: 32px;\n",
              "      padding: 0 0 0 0;\n",
              "      width: 32px;\n",
              "    }\n",
              "\n",
              "    .colab-df-convert:hover {\n",
              "      background-color: #E2EBFA;\n",
              "      box-shadow: 0px 1px 2px rgba(60, 64, 67, 0.3), 0px 1px 3px 1px rgba(60, 64, 67, 0.15);\n",
              "      fill: #174EA6;\n",
              "    }\n",
              "\n",
              "    [theme=dark] .colab-df-convert {\n",
              "      background-color: #3B4455;\n",
              "      fill: #D2E3FC;\n",
              "    }\n",
              "\n",
              "    [theme=dark] .colab-df-convert:hover {\n",
              "      background-color: #434B5C;\n",
              "      box-shadow: 0px 1px 3px 1px rgba(0, 0, 0, 0.15);\n",
              "      filter: drop-shadow(0px 1px 2px rgba(0, 0, 0, 0.3));\n",
              "      fill: #FFFFFF;\n",
              "    }\n",
              "  </style>\n",
              "\n",
              "      <script>\n",
              "        const buttonEl =\n",
              "          document.querySelector('#df-7fc3ed88-b026-4297-a594-1dd9f233f8ed button.colab-df-convert');\n",
              "        buttonEl.style.display =\n",
              "          google.colab.kernel.accessAllowed ? 'block' : 'none';\n",
              "\n",
              "        async function convertToInteractive(key) {\n",
              "          const element = document.querySelector('#df-7fc3ed88-b026-4297-a594-1dd9f233f8ed');\n",
              "          const dataTable =\n",
              "            await google.colab.kernel.invokeFunction('convertToInteractive',\n",
              "                                                     [key], {});\n",
              "          if (!dataTable) return;\n",
              "\n",
              "          const docLinkHtml = 'Like what you see? Visit the ' +\n",
              "            '<a target=\"_blank\" href=https://colab.research.google.com/notebooks/data_table.ipynb>data table notebook</a>'\n",
              "            + ' to learn more about interactive tables.';\n",
              "          element.innerHTML = '';\n",
              "          dataTable['output_type'] = 'display_data';\n",
              "          await google.colab.output.renderOutput(dataTable, element);\n",
              "          const docLink = document.createElement('div');\n",
              "          docLink.innerHTML = docLinkHtml;\n",
              "          element.appendChild(docLink);\n",
              "        }\n",
              "      </script>\n",
              "    </div>\n",
              "  </div>\n",
              "  "
            ],
            "text/plain": [
              "                   datetime cloud.instance.id  system.memory.used.pct\n",
              "0  2021-09-01T22:16:20.000Z        i-000001bc                  0.9136\n",
              "1  2021-09-01T22:16:20.000Z        i-000000c7                  0.6492\n",
              "2  2021-09-01T22:16:20.000Z        i-00000175                  0.9774\n",
              "3  2021-09-01T22:16:20.000Z        i-000002ac                  0.9310\n",
              "4  2021-09-01T22:16:20.000Z        i-000001e8                  0.2700"
            ]
          },
          "metadata": {},
          "execution_count": 129
        }
      ]
    },
    {
      "cell_type": "code",
      "source": [
        "df['datetime'] = pd.to_datetime(df['datetime'])\n",
        "df['datetime'] = df['datetime'].dt.tz_localize(None)\n",
        "df.rename(columns = {'datetime' : 'ds', 'cloud.instance.id' : 'instance_id', 'system.memory.used.pct' : 'y'}, inplace = True)"
      ],
      "metadata": {
        "id": "Lb7OKgLBW66Y"
      },
      "execution_count": null,
      "outputs": []
    },
    {
      "cell_type": "code",
      "source": [
        "selected_df = df[df['instance_id'] == 'i-000001bc']\n",
        "selected_df['cap'] = 1\n",
        "selected_df['floor'] = 0"
      ],
      "metadata": {
        "colab": {
          "base_uri": "https://localhost:8080/"
        },
        "id": "EeDJYpH_n526",
        "outputId": "83ddfdb8-7d53-47b3-a396-9e190ecef57c"
      },
      "execution_count": null,
      "outputs": [
        {
          "output_type": "stream",
          "name": "stderr",
          "text": [
            "/usr/local/lib/python3.7/dist-packages/ipykernel_launcher.py:2: SettingWithCopyWarning: \n",
            "A value is trying to be set on a copy of a slice from a DataFrame.\n",
            "Try using .loc[row_indexer,col_indexer] = value instead\n",
            "\n",
            "See the caveats in the documentation: https://pandas.pydata.org/pandas-docs/stable/user_guide/indexing.html#returning-a-view-versus-a-copy\n",
            "  \n",
            "/usr/local/lib/python3.7/dist-packages/ipykernel_launcher.py:3: SettingWithCopyWarning: \n",
            "A value is trying to be set on a copy of a slice from a DataFrame.\n",
            "Try using .loc[row_indexer,col_indexer] = value instead\n",
            "\n",
            "See the caveats in the documentation: https://pandas.pydata.org/pandas-docs/stable/user_guide/indexing.html#returning-a-view-versus-a-copy\n",
            "  This is separate from the ipykernel package so we can avoid doing imports until\n"
          ]
        }
      ]
    },
    {
      "cell_type": "markdown",
      "source": [
        "## 검증에 사용될 10월 메모리 사용량 데이터를 불러오고 가공하는 부분 입니다."
      ],
      "metadata": {
        "id": "HMVOCIl_y0yH"
      }
    },
    {
      "cell_type": "code",
      "source": [
        "memory_true_df = pd.read_csv(\"/content/drive/MyDrive/Collab/data/mem_2110/sym-metric-memory-2021-10-01.csv\")\n",
        "df_true = memory_true_df[['datetime','cloud.instance.id' ,'system.memory.used.pct']]\n",
        "for i in range(2, 8):\n",
        "    memory_true_df = pd.read_csv(\"/content/drive/MyDrive/Collab/data/mem_2110/sym-metric-memory-2021-10-\"+str(i).zfill(2)+\".csv\")\n",
        "    df_true = pd.concat([df_true, memory_true_df[['datetime', 'cloud.instance.id', 'system.memory.used.pct']]])\n",
        "memory_true_df = 0"
      ],
      "metadata": {
        "id": "_QB8K5SgXD0A"
      },
      "execution_count": null,
      "outputs": []
    },
    {
      "cell_type": "code",
      "source": [
        "df_true['datetime'] = pd.to_datetime(df_true['datetime'])\n",
        "df_true['datetime'] = df_true['datetime'].dt.tz_localize(None)\n",
        "df_true.rename(columns = {'datetime' : 'ds', 'cloud.instance.id' : 'instance_id', 'system.memory.used.pct' : 'y'}, inplace = True)"
      ],
      "metadata": {
        "id": "cpQwZJk8JohS"
      },
      "execution_count": null,
      "outputs": []
    },
    {
      "cell_type": "code",
      "source": [
        "selected_true_df = df_true[df_true['instance_id'] == 'i-000001bc']"
      ],
      "metadata": {
        "id": "Z4xTVRkkJxi_"
      },
      "execution_count": null,
      "outputs": []
    },
    {
      "cell_type": "markdown",
      "source": [
        "## Step 2. 모델 구축하기"
      ],
      "metadata": {
        "id": "3h9MFd18zDnA"
      }
    },
    {
      "cell_type": "markdown",
      "source": [
        "## 휴일 정보를 추가하는 단계 입니다."
      ],
      "metadata": {
        "id": "hwLl1VHWzIUI"
      }
    },
    {
      "cell_type": "code",
      "source": [
        "nationalHolidays = pd.DataFrame({\n",
        "\n",
        "  'holiday': 'nationalHolidays',\n",
        "\n",
        "  'ds': pd.to_datetime(['2021-09-04','2021-09-05','2021-09-11','2021-09-12','2021-09-18','2021-09-19','2021-09-20','2021-09-21','2021-09-22','2021-09-25','2021-09-26',\n",
        "                        '2021-10-01','2021-10-02','2021-10-03','2021-10-04','2021-10-09','2021-10-10','2021-10-11','2021-10-16','2021-10-17','2021-10-23','2021-10-24','2021-10-30','2021-10-31']),\n",
        "\n",
        "})\n",
        "\n",
        "\n",
        "holidays = nationalHolidays"
      ],
      "metadata": {
        "id": "DFj8ykOq_XSu"
      },
      "execution_count": null,
      "outputs": []
    },
    {
      "cell_type": "markdown",
      "source": [
        "## 실질적으로 모델을 구축하고 결과 값을 예측, 시각화 자료로 표현합니다.\n",
        "저희가 사용한 모델은 ML모델로 시계열 데이터를 예측하는 Prophet입니다."
      ],
      "metadata": {
        "id": "cvM1rXnCzObR"
      }
    },
    {
      "cell_type": "code",
      "source": [
        "from fbprophet import Prophet\n",
        "\n",
        "m = Prophet().fit(selected_df)\n",
        "future = m.make_future_dataframe(periods=168, freq='H')\n",
        "future['cap'] = 1\n",
        "future['floor'] = 0\n",
        "fcst = m.predict(future)\n",
        "fig = m.plot(fcst)"
      ],
      "metadata": {
        "colab": {
          "base_uri": "https://localhost:8080/",
          "height": 459
        },
        "id": "VuQNDevxW-wy",
        "outputId": "2beaedab-dbdf-4852-d9cf-57e2b09a6afc"
      },
      "execution_count": null,
      "outputs": [
        {
          "output_type": "stream",
          "name": "stderr",
          "text": [
            "INFO:fbprophet:Disabling yearly seasonality. Run prophet with yearly_seasonality=True to override this.\n"
          ]
        },
        {
          "output_type": "display_data",
          "data": {
            "image/png": "[encoded data removed]",
            "text/plain": [
              "<Figure size 720x432 with 1 Axes>"
            ]
          },
          "metadata": {}
        }
      ]
    },
    {
      "cell_type": "markdown",
      "source": [
        "## 산출한 예측 값을 실제 값과 **MAPE**를 이용하여 비교합니다."
      ],
      "metadata": {
        "id": "fmhublFgzVKp"
      }
    },
    {
      "cell_type": "code",
      "source": [
        "preds = fcst[fcst['ds'] > '2021-10-01']\n",
        "preds = preds[['ds', 'yhat']]\n",
        "y_pred = preds['yhat']\n",
        "y_pred = np.array(y_pred)"
      ],
      "metadata": {
        "id": "nGLI20PZKHD-"
      },
      "execution_count": null,
      "outputs": []
    },
    {
      "cell_type": "code",
      "source": [
        "y_true = selected_true_df.groupby([selected_true_df['ds'].dt.day, selected_true_df['ds'].dt.hour]).mean()['y']\n",
        "y_true = np.array(y_true)"
      ],
      "metadata": {
        "id": "3JVZa6ANRt5P"
      },
      "execution_count": null,
      "outputs": []
    },
    {
      "cell_type": "code",
      "source": [
        "mape = np.mean(np.abs((y_true - y_pred) / y_true)) * 100\n",
        "mape"
      ],
      "metadata": {
        "colab": {
          "base_uri": "https://localhost:8080/"
        },
        "id": "JXvuNaahQSeh",
        "outputId": "ececc864-519b-4b62-8506-1976217a73a6"
      },
      "execution_count": null,
      "outputs": [
        {
          "output_type": "execute_result",
          "data": {
            "text/plain": [
              "12.39555714816693"
            ]
          },
          "metadata": {},
          "execution_count": 139
        }
      ]
    },
    {
      "cell_type": "markdown",
      "source": [
        "## 최종적으로 12.39555714816693 라는 MAPE값을 구하였습니다.  \n",
        "이는 예측치가 실제 메모리 사용량과 약 12.396% 차이를 보인다는 의미입니다."
      ],
      "metadata": {
        "id": "wS_unu3bzfbF"
      }
    },
    {
      "cell_type": "markdown",
      "source": [
        "추가적으로 이번 모델의 성능을 높이기 위하여 총 두개의 파라미터를 실험 해 보았습니다.\n",
        "\n",
        "**changepoint_prior_scale** 와 **holidays** 라는 파라미터 입니다.\n",
        "\n",
        "**holidays** 를 고려한 MAPE는 12.409777919055195\n",
        "\n",
        "**changepoint_prior_sclae** 를 변경해준 MAPE는 12.578006111575013\n",
        "\n",
        "**양 측 모두** 를 고려한 MAPE는 12.440049921286803 \n",
        "\n",
        "로 어떤 파라미터도 추가하지 않은 모델의 성능이 가장 뛰어나다고 판단하였습니다."
      ],
      "metadata": {
        "id": "-NZQ90Qaz36M"
      }
    },
    {
      "cell_type": "code",
      "source": [
        ""
      ],
      "metadata": {
        "id": "lpatDaXkU3wK"
      },
      "execution_count": null,
      "outputs": []
    }
  ]
}