{
 "cells": [
  {
   "cell_type": "markdown",
   "id": "3356502b-0040-41f4-9d8d-9407bc45d5f4",
   "metadata": {
    "id": "3356502b-0040-41f4-9d8d-9407bc45d5f4"
   },
   "source": [
    "## 2.1. 데이터 로드\n",
    "- 학습 데이터셋: train.pkl.gz\n",
    "- 평가 데이터셋: test.pkl.gz"
   ]
  },
  {
   "cell_type": "code",
   "execution_count": 108,
   "id": "125ff3ce-4090-4835-892d-e4a4a68c54cd",
   "metadata": {
    "id": "125ff3ce-4090-4835-892d-e4a4a68c54cd"
   },
   "outputs": [
    {
     "name": "stdout",
     "output_type": "stream",
     "text": [
      "<class 'pandas.core.frame.DataFrame'>\n",
      "RangeIndex: 1493893 entries, 0 to 1493892\n",
      "Data columns (total 3 columns):\n",
      " #   Column  Non-Null Count    Dtype         \n",
      "---  ------  --------------    -----         \n",
      " 0   index   1493893 non-null  object        \n",
      " 1   dt      1493893 non-null  datetime64[ns]\n",
      " 2   cnt     1493893 non-null  int64         \n",
      "dtypes: datetime64[ns](1), int64(1), object(1)\n",
      "memory usage: 34.2+ MB\n"
     ]
    }
   ],
   "source": [
    "import numpy as np\n",
    "import pandas as pd\n",
    "\n",
    "train_df = pd.read_pickle(\"./train.pkl.gz\")\n",
    "test_df = pd.read_pickle(\"./test.pkl.gz\")\n",
    "train_df.info()"
   ]
  },
  {
   "cell_type": "markdown",
   "id": "f8a73887-d72e-4d98-bee4-4f92c65d4fd7",
   "metadata": {
    "id": "f8a73887-d72e-4d98-bee4-4f92c65d4fd7"
   },
   "source": [
    "## 2.3. 데이터 전처리"
   ]
  },
  {
   "cell_type": "markdown",
   "id": "b85eac36",
   "metadata": {
    "id": "a45e7393-4965-414a-bdf9-03f7131c41b5"
   },
   "source": [
    "Tensor의 구성은 [day, timestep, count] 로 구성할 예정입니다.  \n",
    "즉 날자를 batch로 삼고자 합니다."
   ]
  },
  {
   "cell_type": "markdown",
   "id": "9c9baaa7",
   "metadata": {},
   "source": [
    "또한 저는 시간별로 모든 지역의 cnt를 합쳐줄 것 입니다.  \n",
    "그럼에도 만약 공백 시간대가 발생한다면 0으로 채워줄 것 입니다."
   ]
  },
  {
   "cell_type": "code",
   "execution_count": 292,
   "id": "b057e0b6",
   "metadata": {},
   "outputs": [
    {
     "data": {
      "text/html": [
       "<div>\n",
       "<style scoped>\n",
       "    .dataframe tbody tr th:only-of-type {\n",
       "        vertical-align: middle;\n",
       "    }\n",
       "\n",
       "    .dataframe tbody tr th {\n",
       "        vertical-align: top;\n",
       "    }\n",
       "\n",
       "    .dataframe thead th {\n",
       "        text-align: right;\n",
       "    }\n",
       "</style>\n",
       "<table border=\"1\" class=\"dataframe\">\n",
       "  <thead>\n",
       "    <tr style=\"text-align: right;\">\n",
       "      <th></th>\n",
       "      <th>index</th>\n",
       "      <th>dt</th>\n",
       "      <th>cnt</th>\n",
       "    </tr>\n",
       "  </thead>\n",
       "  <tbody>\n",
       "    <tr>\n",
       "      <th>0</th>\n",
       "      <td>ce6028f30ca4be4b58e0453b633469ed27fb8c9f</td>\n",
       "      <td>2021-05-01 00:00:00</td>\n",
       "      <td>2</td>\n",
       "    </tr>\n",
       "    <tr>\n",
       "      <th>1</th>\n",
       "      <td>ce6028f30ca4be4b58e0453b633469ed27fb8c9f</td>\n",
       "      <td>2021-05-01 19:00:00</td>\n",
       "      <td>1</td>\n",
       "    </tr>\n",
       "    <tr>\n",
       "      <th>2</th>\n",
       "      <td>ce6028f30ca4be4b58e0453b633469ed27fb8c9f</td>\n",
       "      <td>2021-05-01 19:10:00</td>\n",
       "      <td>2</td>\n",
       "    </tr>\n",
       "    <tr>\n",
       "      <th>3</th>\n",
       "      <td>ce6028f30ca4be4b58e0453b633469ed27fb8c9f</td>\n",
       "      <td>2021-05-01 19:20:00</td>\n",
       "      <td>2</td>\n",
       "    </tr>\n",
       "    <tr>\n",
       "      <th>4</th>\n",
       "      <td>ce6028f30ca4be4b58e0453b633469ed27fb8c9f</td>\n",
       "      <td>2021-05-01 19:30:00</td>\n",
       "      <td>0</td>\n",
       "    </tr>\n",
       "    <tr>\n",
       "      <th>...</th>\n",
       "      <td>...</td>\n",
       "      <td>...</td>\n",
       "      <td>...</td>\n",
       "    </tr>\n",
       "    <tr>\n",
       "      <th>1493216</th>\n",
       "      <td>1383c8d21ddf42b2f93dc7e3f3d2b9a80c3aa617</td>\n",
       "      <td>2021-05-01 23:10:00</td>\n",
       "      <td>6</td>\n",
       "    </tr>\n",
       "    <tr>\n",
       "      <th>1493217</th>\n",
       "      <td>1383c8d21ddf42b2f93dc7e3f3d2b9a80c3aa617</td>\n",
       "      <td>2021-05-01 23:20:00</td>\n",
       "      <td>6</td>\n",
       "    </tr>\n",
       "    <tr>\n",
       "      <th>1493218</th>\n",
       "      <td>1383c8d21ddf42b2f93dc7e3f3d2b9a80c3aa617</td>\n",
       "      <td>2021-05-01 23:30:00</td>\n",
       "      <td>4</td>\n",
       "    </tr>\n",
       "    <tr>\n",
       "      <th>1493219</th>\n",
       "      <td>1383c8d21ddf42b2f93dc7e3f3d2b9a80c3aa617</td>\n",
       "      <td>2021-05-01 23:40:00</td>\n",
       "      <td>6</td>\n",
       "    </tr>\n",
       "    <tr>\n",
       "      <th>1493220</th>\n",
       "      <td>1383c8d21ddf42b2f93dc7e3f3d2b9a80c3aa617</td>\n",
       "      <td>2021-05-01 23:50:00</td>\n",
       "      <td>12</td>\n",
       "    </tr>\n",
       "  </tbody>\n",
       "</table>\n",
       "<p>66572 rows × 3 columns</p>\n",
       "</div>"
      ],
      "text/plain": [
       "                                            index                  dt  cnt\n",
       "0        ce6028f30ca4be4b58e0453b633469ed27fb8c9f 2021-05-01 00:00:00    2\n",
       "1        ce6028f30ca4be4b58e0453b633469ed27fb8c9f 2021-05-01 19:00:00    1\n",
       "2        ce6028f30ca4be4b58e0453b633469ed27fb8c9f 2021-05-01 19:10:00    2\n",
       "3        ce6028f30ca4be4b58e0453b633469ed27fb8c9f 2021-05-01 19:20:00    2\n",
       "4        ce6028f30ca4be4b58e0453b633469ed27fb8c9f 2021-05-01 19:30:00    0\n",
       "...                                           ...                 ...  ...\n",
       "1493216  1383c8d21ddf42b2f93dc7e3f3d2b9a80c3aa617 2021-05-01 23:10:00    6\n",
       "1493217  1383c8d21ddf42b2f93dc7e3f3d2b9a80c3aa617 2021-05-01 23:20:00    6\n",
       "1493218  1383c8d21ddf42b2f93dc7e3f3d2b9a80c3aa617 2021-05-01 23:30:00    4\n",
       "1493219  1383c8d21ddf42b2f93dc7e3f3d2b9a80c3aa617 2021-05-01 23:40:00    6\n",
       "1493220  1383c8d21ddf42b2f93dc7e3f3d2b9a80c3aa617 2021-05-01 23:50:00   12\n",
       "\n",
       "[66572 rows x 3 columns]"
      ]
     },
     "execution_count": 292,
     "metadata": {},
     "output_type": "execute_result"
    }
   ],
   "source": [
    "train = train_df.copy()\n",
    "train[train['dt'].dt.day == 1]"
   ]
  },
  {
   "cell_type": "code",
   "execution_count": 293,
   "id": "5a5b5328",
   "metadata": {},
   "outputs": [],
   "source": [
    "train = train_df.copy()\n",
    "train['dt'] = train['dt'].map(lambda x: x.strftime('%d %H:%M'))\n",
    "a = []\n",
    "for day in range(1, 28):\n",
    "    for hour in range(0, 24):\n",
    "        for mi in range(0, 60, 10):\n",
    "            day = str(day).zfill(2)\n",
    "            hour = str(hour).zfill(2)\n",
    "            mi = str(mi).zfill(2)\n",
    "            time = day + ' ' + hour + ':' + mi\n",
    "            a.append([time, train[train['dt'] == time]['cnt'].sum()])\n",
    "            \n",
    "train = pd.DataFrame(a, columns=['dt', 'cnt'])"
   ]
  },
  {
   "cell_type": "code",
   "execution_count": 294,
   "id": "d4ec30b3",
   "metadata": {},
   "outputs": [
    {
     "data": {
      "text/html": [
       "<div>\n",
       "<style scoped>\n",
       "    .dataframe tbody tr th:only-of-type {\n",
       "        vertical-align: middle;\n",
       "    }\n",
       "\n",
       "    .dataframe tbody tr th {\n",
       "        vertical-align: top;\n",
       "    }\n",
       "\n",
       "    .dataframe thead th {\n",
       "        text-align: right;\n",
       "    }\n",
       "</style>\n",
       "<table border=\"1\" class=\"dataframe\">\n",
       "  <thead>\n",
       "    <tr style=\"text-align: right;\">\n",
       "      <th></th>\n",
       "      <th>dt</th>\n",
       "      <th>cnt</th>\n",
       "    </tr>\n",
       "  </thead>\n",
       "  <tbody>\n",
       "    <tr>\n",
       "      <th>0</th>\n",
       "      <td>01 00:00</td>\n",
       "      <td>17448</td>\n",
       "    </tr>\n",
       "    <tr>\n",
       "      <th>1</th>\n",
       "      <td>01 00:10</td>\n",
       "      <td>15503</td>\n",
       "    </tr>\n",
       "    <tr>\n",
       "      <th>2</th>\n",
       "      <td>01 00:20</td>\n",
       "      <td>13970</td>\n",
       "    </tr>\n",
       "    <tr>\n",
       "      <th>3</th>\n",
       "      <td>01 00:30</td>\n",
       "      <td>12474</td>\n",
       "    </tr>\n",
       "    <tr>\n",
       "      <th>4</th>\n",
       "      <td>01 00:40</td>\n",
       "      <td>11289</td>\n",
       "    </tr>\n",
       "    <tr>\n",
       "      <th>...</th>\n",
       "      <td>...</td>\n",
       "      <td>...</td>\n",
       "    </tr>\n",
       "    <tr>\n",
       "      <th>3883</th>\n",
       "      <td>27 23:10</td>\n",
       "      <td>20973</td>\n",
       "    </tr>\n",
       "    <tr>\n",
       "      <th>3884</th>\n",
       "      <td>27 23:20</td>\n",
       "      <td>15663</td>\n",
       "    </tr>\n",
       "    <tr>\n",
       "      <th>3885</th>\n",
       "      <td>27 23:30</td>\n",
       "      <td>12772</td>\n",
       "    </tr>\n",
       "    <tr>\n",
       "      <th>3886</th>\n",
       "      <td>27 23:40</td>\n",
       "      <td>11446</td>\n",
       "    </tr>\n",
       "    <tr>\n",
       "      <th>3887</th>\n",
       "      <td>27 23:50</td>\n",
       "      <td>10643</td>\n",
       "    </tr>\n",
       "  </tbody>\n",
       "</table>\n",
       "<p>3888 rows × 2 columns</p>\n",
       "</div>"
      ],
      "text/plain": [
       "            dt    cnt\n",
       "0     01 00:00  17448\n",
       "1     01 00:10  15503\n",
       "2     01 00:20  13970\n",
       "3     01 00:30  12474\n",
       "4     01 00:40  11289\n",
       "...        ...    ...\n",
       "3883  27 23:10  20973\n",
       "3884  27 23:20  15663\n",
       "3885  27 23:30  12772\n",
       "3886  27 23:40  11446\n",
       "3887  27 23:50  10643\n",
       "\n",
       "[3888 rows x 2 columns]"
      ]
     },
     "execution_count": 294,
     "metadata": {},
     "output_type": "execute_result"
    }
   ],
   "source": [
    "train"
   ]
  },
  {
   "cell_type": "markdown",
   "id": "04d56253",
   "metadata": {},
   "source": [
    "지금부터는 학습을 위해 Pytorch Tensor로 바꿔줄 예정입니다."
   ]
  },
  {
   "cell_type": "code",
   "execution_count": 295,
   "id": "2063f47d",
   "metadata": {},
   "outputs": [
    {
     "name": "stdout",
     "output_type": "stream",
     "text": [
      "Collecting pytorch\n",
      "  Using cached pytorch-1.0.2.tar.gz (689 bytes)\n",
      "Building wheels for collected packages: pytorch\n",
      "  Building wheel for pytorch (setup.py): started\n",
      "  Building wheel for pytorch (setup.py): finished with status 'error'\n",
      "  Running setup.py clean for pytorch\n",
      "Failed to build pytorch\n",
      "Installing collected packages: pytorch\n",
      "    Running setup.py install for pytorch: started\n",
      "    Running setup.py install for pytorch: finished with status 'error'\n"
     ]
    },
    {
     "name": "stderr",
     "output_type": "stream",
     "text": [
      "  ERROR: Command errored out with exit status 1:\n",
      "   command: 'D:\\anaconda3\\envs\\PROJECT\\python.exe' -u -c 'import sys, setuptools, tokenize; sys.argv[0] = '\"'\"'C:\\\\Users\\\\tolight20\\\\AppData\\\\Local\\\\Temp\\\\pip-install-_3xw_zr_\\\\pytorch_0177a7d5562d4063b332b6c05dcbe804\\\\setup.py'\"'\"'; __file__='\"'\"'C:\\\\Users\\\\tolight20\\\\AppData\\\\Local\\\\Temp\\\\pip-install-_3xw_zr_\\\\pytorch_0177a7d5562d4063b332b6c05dcbe804\\\\setup.py'\"'\"';f=getattr(tokenize, '\"'\"'open'\"'\"', open)(__file__);code=f.read().replace('\"'\"'\\r\\n'\"'\"', '\"'\"'\\n'\"'\"');f.close();exec(compile(code, __file__, '\"'\"'exec'\"'\"'))' bdist_wheel -d 'C:\\Users\\tolight20\\AppData\\Local\\Temp\\pip-wheel-lbiskqqo'\n",
      "       cwd: C:\\Users\\tolight20\\AppData\\Local\\Temp\\pip-install-_3xw_zr_\\pytorch_0177a7d5562d4063b332b6c05dcbe804\\\n",
      "  Complete output (5 lines):\n",
      "  Traceback (most recent call last):\n",
      "    File \"<string>\", line 1, in <module>\n",
      "    File \"C:\\Users\\tolight20\\AppData\\Local\\Temp\\pip-install-_3xw_zr_\\pytorch_0177a7d5562d4063b332b6c05dcbe804\\setup.py\", line 15, in <module>\n",
      "      raise Exception(message)\n",
      "  Exception: You tried to install \"pytorch\". The package named for PyTorch is \"torch\"\n",
      "  ----------------------------------------\n",
      "  ERROR: Failed building wheel for pytorch\n",
      "    ERROR: Command errored out with exit status 1:\n",
      "     command: 'D:\\anaconda3\\envs\\PROJECT\\python.exe' -u -c 'import sys, setuptools, tokenize; sys.argv[0] = '\"'\"'C:\\\\Users\\\\tolight20\\\\AppData\\\\Local\\\\Temp\\\\pip-install-_3xw_zr_\\\\pytorch_0177a7d5562d4063b332b6c05dcbe804\\\\setup.py'\"'\"'; __file__='\"'\"'C:\\\\Users\\\\tolight20\\\\AppData\\\\Local\\\\Temp\\\\pip-install-_3xw_zr_\\\\pytorch_0177a7d5562d4063b332b6c05dcbe804\\\\setup.py'\"'\"';f=getattr(tokenize, '\"'\"'open'\"'\"', open)(__file__);code=f.read().replace('\"'\"'\\r\\n'\"'\"', '\"'\"'\\n'\"'\"');f.close();exec(compile(code, __file__, '\"'\"'exec'\"'\"'))' install --record 'C:\\Users\\tolight20\\AppData\\Local\\Temp\\pip-record-pa4619rk\\install-record.txt' --single-version-externally-managed --compile --install-headers 'D:\\anaconda3\\envs\\PROJECT\\Include\\pytorch'\n",
      "         cwd: C:\\Users\\tolight20\\AppData\\Local\\Temp\\pip-install-_3xw_zr_\\pytorch_0177a7d5562d4063b332b6c05dcbe804\\\n",
      "    Complete output (5 lines):\n",
      "    Traceback (most recent call last):\n",
      "      File \"<string>\", line 1, in <module>\n",
      "      File \"C:\\Users\\tolight20\\AppData\\Local\\Temp\\pip-install-_3xw_zr_\\pytorch_0177a7d5562d4063b332b6c05dcbe804\\setup.py\", line 11, in <module>\n",
      "        raise Exception(message)\n",
      "    Exception: You tried to install \"pytorch\". The package named for PyTorch is \"torch\"\n",
      "    ----------------------------------------\n",
      "ERROR: Command errored out with exit status 1: 'D:\\anaconda3\\envs\\PROJECT\\python.exe' -u -c 'import sys, setuptools, tokenize; sys.argv[0] = '\"'\"'C:\\\\Users\\\\tolight20\\\\AppData\\\\Local\\\\Temp\\\\pip-install-_3xw_zr_\\\\pytorch_0177a7d5562d4063b332b6c05dcbe804\\\\setup.py'\"'\"'; __file__='\"'\"'C:\\\\Users\\\\tolight20\\\\AppData\\\\Local\\\\Temp\\\\pip-install-_3xw_zr_\\\\pytorch_0177a7d5562d4063b332b6c05dcbe804\\\\setup.py'\"'\"';f=getattr(tokenize, '\"'\"'open'\"'\"', open)(__file__);code=f.read().replace('\"'\"'\\r\\n'\"'\"', '\"'\"'\\n'\"'\"');f.close();exec(compile(code, __file__, '\"'\"'exec'\"'\"'))' install --record 'C:\\Users\\tolight20\\AppData\\Local\\Temp\\pip-record-pa4619rk\\install-record.txt' --single-version-externally-managed --compile --install-headers 'D:\\anaconda3\\envs\\PROJECT\\Include\\pytorch' Check the logs for full command output.\n"
     ]
    }
   ],
   "source": [
    "!pip install -U pytorch\n",
    "import torch"
   ]
  },
  {
   "cell_type": "markdown",
   "id": "d2243523",
   "metadata": {},
   "source": [
    "toDataset함수로 input array와 output array를 생성해 줄 예정입니다.  \n",
    "input array로는 현재 시점 (t0)와 이전 6개 시점 (t-6 ~ t-1)인 총 7개 시점이 될 것이며  \n",
    "output array는 바로 다음 시점을 예측하면서 학습을 진행할 예정입니다."
   ]
  },
  {
   "cell_type": "code",
   "execution_count": 326,
   "id": "7e75bd03",
   "metadata": {},
   "outputs": [],
   "source": [
    "def toDataset(df, window = 7):\n",
    "    feature_list = []\n",
    "    label_list = []\n",
    "    for i in range(len(df)-window):\n",
    "        feature_list.append(np.array(df.iloc[i:i+window]))\n",
    "        label_list.append(np.array(df.iloc[i+window]))\n",
    "        \n",
    "    return np.array(feature_list), np.array(label_list)"
   ]
  },
  {
   "cell_type": "code",
   "execution_count": 327,
   "id": "78b8341b",
   "metadata": {},
   "outputs": [],
   "source": [
    "X, Y = toDataset(train[train['dt'].str.contains('01 ')]['cnt'])\n",
    "X = torch.from_numpy(X).float().view(1, -1, 7)\n",
    "Y = torch.from_numpy(Y).float().view(1, -1, 1)\n",
    "\n",
    "for i in range(2, 28):\n",
    "    day = str(i).zfill(2) + ' '\n",
    "    temp_x, temp_y = toDataset(train[train['dt'].str.contains(day)]['cnt'])\n",
    "    temp_x = torch.from_numpy(temp_x).float().view(1, -1, 7)\n",
    "    temp_y = torch.from_numpy(temp_y).float().view(1, -1, 1)\n",
    "    X = torch.cat((X, temp_x), 0)\n",
    "    Y = torch.cat((Y, temp_y), 0)"
   ]
  },
  {
   "cell_type": "code",
   "execution_count": 328,
   "id": "4e716080",
   "metadata": {
    "scrolled": true
   },
   "outputs": [
    {
     "data": {
      "text/plain": [
       "torch.Size([27, 137, 1])"
      ]
     },
     "execution_count": 328,
     "metadata": {},
     "output_type": "execute_result"
    }
   ],
   "source": [
    "Y.shape"
   ]
  },
  {
   "cell_type": "markdown",
   "id": "733b7db2-9877-45dc-965a-59e625788097",
   "metadata": {
    "id": "733b7db2-9877-45dc-965a-59e625788097"
   },
   "source": [
    "## 2.4. 모델링"
   ]
  },
  {
   "cell_type": "code",
   "execution_count": 330,
   "id": "c00f8a88-575d-45d0-9880-9f4f589a8af7",
   "metadata": {
    "id": "c00f8a88-575d-45d0-9880-9f4f589a8af7"
   },
   "outputs": [],
   "source": [
    "import torch.nn as nn\n",
    "\n",
    "class LSTM_(nn.Module):\n",
    "    \n",
    "    def __init__(self, input_dim, hidden_dim, num_layers, output_dim):\n",
    "        super(LSTM_, self).__init__()\n",
    "        \n",
    "        self.hidden_dim = hidden_dim\n",
    "        self.num_layers = num_layers\n",
    "        self.input_dim = input_dim\n",
    "        \n",
    "        \n",
    "        self.lstm =nn.LSTM(input_dim, hidden_dim, num_layers, batch_first =True)\n",
    "        \n",
    "        self.fc = nn.Linear(hidden_dim, output_dim)\n",
    "        \n",
    "    \n",
    "    def forward(self, x):\n",
    "        h0, c0 = self.init_hidden(x)\n",
    "        \n",
    "        out,(hn, cn)=self.lstm(x, (h0,c0))\n",
    "        \n",
    "        \n",
    "        out = self.fc(out)\n",
    "        \n",
    "        return out\n",
    "    \n",
    "    def init_hidden(self,x):\n",
    "        self.h0 =torch.zeros(self.num_layers, x.size(0), self.hidden_dim)\n",
    "        self.c0 = torch.zeros(self.num_layers, x.size(0), self.hidden_dim)\n",
    "        \n",
    "        return self.h0, self.c0"
   ]
  },
  {
   "cell_type": "code",
   "execution_count": 331,
   "id": "a7ae22aa",
   "metadata": {},
   "outputs": [
    {
     "name": "stdout",
     "output_type": "stream",
     "text": [
      "Epoch  10 MSE:  145481040.0\n",
      "Epoch  20 MSE:  145276416.0\n",
      "Epoch  30 MSE:  145070496.0\n",
      "Epoch  40 MSE:  144865920.0\n",
      "Epoch  50 MSE:  144663120.0\n",
      "Epoch  60 MSE:  144462128.0\n",
      "Epoch  70 MSE:  144262912.0\n",
      "Epoch  80 MSE:  144065360.0\n",
      "Epoch  90 MSE:  143869440.0\n",
      "Epoch  100 MSE:  143675056.0\n",
      "Epoch  110 MSE:  143491040.0\n",
      "Epoch  120 MSE:  143300496.0\n",
      "Epoch  130 MSE:  143111120.0\n",
      "Epoch  140 MSE:  142923168.0\n",
      "Epoch  150 MSE:  142736384.0\n",
      "Epoch  160 MSE:  142551216.0\n",
      "Epoch  170 MSE:  142367008.0\n",
      "Epoch  180 MSE:  142184256.0\n",
      "Epoch  190 MSE:  142002368.0\n",
      "Epoch  200 MSE:  141821312.0\n",
      "Epoch  210 MSE:  141641888.0\n",
      "Epoch  220 MSE:  141463776.0\n",
      "Epoch  230 MSE:  141286880.0\n",
      "Epoch  240 MSE:  141111040.0\n",
      "Epoch  250 MSE:  140936464.0\n",
      "Epoch  260 MSE:  140778832.0\n",
      "Epoch  270 MSE:  140607056.0\n",
      "Epoch  280 MSE:  140436736.0\n",
      "Epoch  290 MSE:  140267296.0\n",
      "Epoch  300 MSE:  140098896.0\n",
      "Epoch  310 MSE:  139931664.0\n",
      "Epoch  320 MSE:  139765536.0\n",
      "Epoch  330 MSE:  139626432.0\n",
      "Epoch  340 MSE:  139463088.0\n",
      "Epoch  350 MSE:  139300432.0\n",
      "Epoch  360 MSE:  139138736.0\n",
      "Epoch  370 MSE:  139000096.0\n",
      "Epoch  380 MSE:  138870832.0\n",
      "Epoch  390 MSE:  138713728.0\n",
      "Epoch  400 MSE:  138557568.0\n",
      "Epoch  410 MSE:  138403488.0\n",
      "Epoch  420 MSE:  138249744.0\n",
      "Epoch  430 MSE:  138096416.0\n",
      "Epoch  440 MSE:  137941888.0\n",
      "Epoch  450 MSE:  137790896.0\n",
      "Epoch  460 MSE:  137639952.0\n",
      "Epoch  470 MSE:  137523232.0\n",
      "Epoch  480 MSE:  137374128.0\n",
      "Epoch  490 MSE:  137226352.0\n",
      "Epoch  500 MSE:  137079760.0\n",
      "Epoch  510 MSE:  136934208.0\n",
      "Epoch  520 MSE:  136789696.0\n",
      "Epoch  530 MSE:  136646096.0\n",
      "Epoch  540 MSE:  136504368.0\n",
      "Epoch  550 MSE:  136392768.0\n",
      "Epoch  560 MSE:  136252848.0\n",
      "Epoch  570 MSE:  136112880.0\n",
      "Epoch  580 MSE:  135973856.0\n",
      "Epoch  590 MSE:  135866656.0\n",
      "Epoch  600 MSE:  135729712.0\n",
      "Epoch  610 MSE:  135593552.0\n",
      "Epoch  620 MSE:  135458352.0\n",
      "Epoch  630 MSE:  135324256.0\n",
      "Epoch  640 MSE:  135191392.0\n",
      "Epoch  650 MSE:  135060160.0\n",
      "Epoch  660 MSE:  134928784.0\n",
      "Epoch  670 MSE:  134798272.0\n",
      "Epoch  680 MSE:  134668256.0\n",
      "Epoch  690 MSE:  134539104.0\n",
      "Epoch  700 MSE:  134410960.0\n",
      "Epoch  710 MSE:  134283936.0\n",
      "Epoch  720 MSE:  134159928.0\n",
      "Epoch  730 MSE:  134035048.0\n",
      "Epoch  740 MSE:  133910248.0\n",
      "Epoch  750 MSE:  133786280.0\n",
      "Epoch  760 MSE:  133663152.0\n",
      "Epoch  770 MSE:  133541928.0\n",
      "Epoch  780 MSE:  133422568.0\n",
      "Epoch  790 MSE:  133302584.0\n",
      "Epoch  800 MSE:  133182064.0\n",
      "Epoch  810 MSE:  133061888.0\n",
      "Epoch  820 MSE:  132943520.0\n",
      "Epoch  830 MSE:  132828952.0\n",
      "Epoch  840 MSE:  132717064.0\n",
      "Epoch  850 MSE:  132602160.0\n",
      "Epoch  860 MSE:  132487576.0\n",
      "Epoch  870 MSE:  132372928.0\n",
      "Epoch  880 MSE:  132262712.0\n",
      "Epoch  890 MSE:  132157104.0\n",
      "Epoch  900 MSE:  132044912.0\n",
      "Epoch  910 MSE:  131932552.0\n",
      "Epoch  920 MSE:  131822392.0\n",
      "Epoch  930 MSE:  131709592.0\n",
      "Epoch  940 MSE:  131600064.0\n",
      "Epoch  950 MSE:  131493584.0\n",
      "Epoch  960 MSE:  131385072.0\n",
      "Epoch  970 MSE:  131280240.0\n",
      "Epoch  980 MSE:  131175448.0\n",
      "Epoch  990 MSE:  131070024.0\n",
      "Epoch  1000 MSE:  130965048.0\n",
      "Epoch  1010 MSE:  130864480.0\n",
      "Epoch  1020 MSE:  130764696.0\n",
      "Epoch  1030 MSE:  130659368.0\n",
      "Epoch  1040 MSE:  130555128.0\n",
      "Epoch  1050 MSE:  130455320.0\n",
      "Epoch  1060 MSE:  130354664.0\n",
      "Epoch  1070 MSE:  130256752.0\n",
      "Epoch  1080 MSE:  130165560.0\n",
      "Epoch  1090 MSE:  130069144.0\n",
      "Epoch  1100 MSE:  129967664.0\n",
      "Epoch  1110 MSE:  129871032.0\n",
      "Epoch  1120 MSE:  129776168.0\n",
      "Epoch  1130 MSE:  129680744.0\n",
      "Epoch  1140 MSE:  129584536.0\n",
      "Epoch  1150 MSE:  129489528.0\n",
      "Epoch  1160 MSE:  129396360.0\n",
      "Epoch  1170 MSE:  129303664.0\n",
      "Epoch  1180 MSE:  129215808.0\n",
      "Epoch  1190 MSE:  129123512.0\n",
      "Epoch  1200 MSE:  129033896.0\n",
      "Epoch  1210 MSE:  128942776.0\n",
      "Epoch  1220 MSE:  128855048.0\n",
      "Epoch  1230 MSE:  128770872.0\n",
      "Epoch  1240 MSE:  128682248.0\n",
      "Epoch  1250 MSE:  128590592.0\n",
      "Epoch  1260 MSE:  128503624.0\n",
      "Epoch  1270 MSE:  128417168.0\n",
      "Epoch  1280 MSE:  128331640.0\n",
      "Epoch  1290 MSE:  128251328.0\n",
      "Epoch  1300 MSE:  128167480.0\n",
      "Epoch  1310 MSE:  128082968.0\n",
      "Epoch  1320 MSE:  127999008.0\n",
      "Epoch  1330 MSE:  127916592.0\n",
      "Epoch  1340 MSE:  127837328.0\n",
      "Epoch  1350 MSE:  127755088.0\n",
      "Epoch  1360 MSE:  127674528.0\n",
      "Epoch  1370 MSE:  127595632.0\n",
      "Epoch  1380 MSE:  127521216.0\n",
      "Epoch  1390 MSE:  127445536.0\n",
      "Epoch  1400 MSE:  127367304.0\n",
      "Epoch  1410 MSE:  127287704.0\n",
      "Epoch  1420 MSE:  127208704.0\n",
      "Epoch  1430 MSE:  127140216.0\n",
      "Epoch  1440 MSE:  127065144.0\n",
      "Epoch  1450 MSE:  126989440.0\n",
      "Epoch  1460 MSE:  126913872.0\n",
      "Epoch  1470 MSE:  126838160.0\n",
      "Epoch  1480 MSE:  126772672.0\n",
      "Epoch  1490 MSE:  126705624.0\n",
      "Epoch  1500 MSE:  126630744.0\n",
      "Epoch  1510 MSE:  126555328.0\n",
      "Epoch  1520 MSE:  126480104.0\n",
      "Epoch  1530 MSE:  126407744.0\n",
      "Epoch  1540 MSE:  126337544.0\n",
      "Epoch  1550 MSE:  126267168.0\n",
      "Epoch  1560 MSE:  126207904.0\n",
      "Epoch  1570 MSE:  126138960.0\n",
      "Epoch  1580 MSE:  126069632.0\n",
      "Epoch  1590 MSE:  125999400.0\n",
      "Epoch  1600 MSE:  125938624.0\n",
      "Epoch  1610 MSE:  125872176.0\n",
      "Epoch  1620 MSE:  125805768.0\n",
      "Epoch  1630 MSE:  125737592.0\n",
      "Epoch  1640 MSE:  125675248.0\n",
      "Epoch  1650 MSE:  125605144.0\n",
      "Epoch  1660 MSE:  125544792.0\n",
      "Epoch  1670 MSE:  125482728.0\n",
      "Epoch  1680 MSE:  125423776.0\n",
      "Epoch  1690 MSE:  125358664.0\n",
      "Epoch  1700 MSE:  125295728.0\n",
      "Epoch  1710 MSE:  125233912.0\n",
      "Epoch  1720 MSE:  125171592.0\n",
      "Epoch  1730 MSE:  125115800.0\n",
      "Epoch  1740 MSE:  125048392.0\n",
      "Epoch  1750 MSE:  124988272.0\n",
      "Epoch  1760 MSE:  124925624.0\n",
      "Epoch  1770 MSE:  124866024.0\n",
      "Epoch  1780 MSE:  124808536.0\n",
      "Epoch  1790 MSE:  124755448.0\n",
      "Epoch  1800 MSE:  124707560.0\n",
      "Epoch  1810 MSE:  124656712.0\n",
      "Epoch  1820 MSE:  124602016.0\n",
      "Epoch  1830 MSE:  124547368.0\n",
      "Epoch  1840 MSE:  124486528.0\n",
      "Epoch  1850 MSE:  124432752.0\n",
      "Epoch  1860 MSE:  124376120.0\n",
      "Epoch  1870 MSE:  124321040.0\n",
      "Epoch  1880 MSE:  124263040.0\n",
      "Epoch  1890 MSE:  124207552.0\n",
      "Epoch  1900 MSE:  124151704.0\n",
      "Epoch  1910 MSE:  124104192.0\n",
      "Epoch  1920 MSE:  124053344.0\n",
      "Epoch  1930 MSE:  124002440.0\n",
      "Epoch  1940 MSE:  123949560.0\n",
      "Epoch  1950 MSE:  123896280.0\n",
      "Epoch  1960 MSE:  123845104.0\n",
      "Epoch  1970 MSE:  123793976.0\n",
      "Epoch  1980 MSE:  123743712.0\n",
      "Epoch  1990 MSE:  123694584.0\n"
     ]
    },
    {
     "data": {
      "text/plain": [
       "[<matplotlib.lines.Line2D at 0x2c58e8383a0>]"
      ]
     },
     "execution_count": 331,
     "metadata": {},
     "output_type": "execute_result"
    },
    {
     "data": {
      "image/png": "[encoded data removed]",
      "text/plain": [
       "<Figure size 720x432 with 1 Axes>"
      ]
     },
     "metadata": {
      "needs_background": "light"
     },
     "output_type": "display_data"
    }
   ],
   "source": [
    "model = LSTM_(input_dim=7,hidden_dim=512,output_dim=1,num_layers=1)\n",
    "loss_fn = torch.nn.MSELoss()\n",
    "optimiser = torch.optim.Adam(model.parameters(), lr=0.01)\n",
    "\n",
    "epochs = 2000\n",
    "\n",
    "hist = np.zeros(epochs)    \n",
    "    \n",
    "for t in range(epochs):    \n",
    "    \n",
    "    # Forward\n",
    "    y_pred = model(X)\n",
    "\n",
    "    loss = loss_fn(y_pred, Y)\n",
    "    if t % 100 == 0 and t !=0:\n",
    "        print(\"Epoch \", t, \"MSE: \", loss.item())\n",
    "    hist[t] = loss.item()\n",
    "\n",
    "    optimiser.zero_grad()\n",
    "    \n",
    "    # Backward\n",
    "    loss.backward()\n",
    "    optimiser.step()\n",
    "    \n",
    "plt.figure(figsize=(10, 6))\n",
    "plt.plot(hist, label='loss')"
   ]
  },
  {
   "cell_type": "markdown",
   "id": "b2e93ce5-1475-49ab-ba22-9c53d5f40f34",
   "metadata": {
    "id": "b2e93ce5-1475-49ab-ba22-9c53d5f40f34"
   },
   "source": [
    "## 2.5. 평가\n",
    "\n",
    "주어진 베이스라인 모델의 성능을 뛰어넘으면서, 좋은 성능을 보이는지 평가합니다.\n",
    "- 테스트 데이터셋에 대한 베이스라인 모델의 성능: MSE 기준 약 250, MAE 기준 약 3.5"
   ]
  },
  {
   "cell_type": "markdown",
   "id": "9648ecc3",
   "metadata": {},
   "source": [
    "사용할 테스트 test dataset은 가장 데이터 양이 많은 index에서 선택하겠습니다.  \n",
    "연속된 13개의 시점을 선택하고 첫 7개 시점을 input, 마지막 6개 시점을 score측정을 위한 validation 시점으로 활용할 생각입니다."
   ]
  },
  {
   "cell_type": "markdown",
   "id": "5f97767e",
   "metadata": {},
   "source": [
    "임의로 2021년 05월 31일 20:00:00 부터 22:00:00까지 13개의 시점을 선택해 test해보도록 하겠습니다."
   ]
  },
  {
   "cell_type": "code",
   "execution_count": 372,
   "id": "c511cc63",
   "metadata": {},
   "outputs": [],
   "source": [
    "X_test = test_df[test_df['index'] == 'b0ad34010d3f9eb1830e9e8c8ba45a8381d8f59b']\n",
    "X_test = X_test.loc[168689:168701].drop(['index', 'dt'], axis=1)\n",
    "Y_test = X_test[-6:]\n",
    "X_test = X_test[0:7]\n",
    "X_test = torch.from_numpy(np.array(X_test)).float().view(1, -1, 7)\n",
    "Y_test = torch.from_numpy(np.array(Y_test)).float().view(1, -1, 1)"
   ]
  },
  {
   "cell_type": "code",
   "execution_count": 374,
   "id": "07a8711a",
   "metadata": {},
   "outputs": [
    {
     "data": {
      "text/plain": [
       "torch.Size([1, 6, 1])"
      ]
     },
     "execution_count": 374,
     "metadata": {},
     "output_type": "execute_result"
    }
   ],
   "source": [
    "Y_test.shape"
   ]
  },
  {
   "cell_type": "code",
   "execution_count": 380,
   "id": "a10e1991-c758-4965-b723-bb5c988c882b",
   "metadata": {
    "id": "a10e1991-c758-4965-b723-bb5c988c882b"
   },
   "outputs": [
    {
     "name": "stdout",
     "output_type": "stream",
     "text": [
      "MSE Loss is 4608869.5, MAE Loss is 2142.115234375\n"
     ]
    }
   ],
   "source": [
    "loss_mse = torch.nn.MSELoss()\n",
    "loss_mae = torch.nn.L1Loss()\n",
    "with torch.no_grad():\n",
    "    for i in range(6):\n",
    "        Y_pred = model(X_test[:,:,i:i+7])\n",
    "        X_test = torch.cat((X_test, Y_pred), 2)\n",
    "    Y_preds = X_test[:,:,-6:]\n",
    "    mse_loss = loss_mse(Y_preds.view(-1), Y_test.view(-1))\n",
    "    mae_loss = loss_mae(Y_preds.view(-1), Y_test.view(-1))\n",
    "    print(f'MSE Loss is {mse_loss}, MAE Loss is {mae_loss}')"
   ]
  }
 ],
 "metadata": {
  "colab": {
   "name": "problem_demand_prediction.ipynb",
   "provenance": []
  },
  "environment": {
   "name": "tf2-gpu.2-6.m81",
   "type": "gcloud",
   "uri": "gcr.io/deeplearning-platform-release/tf2-gpu.2-6:m81"
  },
  "kernelspec": {
   "display_name": "Python 3",
   "language": "python",
   "name": "python3"
  },
  "language_info": {
   "codemirror_mode": {
    "name": "ipython",
    "version": 3
   },
   "file_extension": ".py",
   "mimetype": "text/x-python",
   "name": "python",
   "nbconvert_exporter": "python",
   "pygments_lexer": "ipython3",
   "version": "3.9.4"
  },
  "toc-autonumbering": false
 },
 "nbformat": 4,
 "nbformat_minor": 5
}
